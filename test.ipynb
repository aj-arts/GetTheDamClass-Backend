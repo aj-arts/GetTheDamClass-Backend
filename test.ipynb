{
 "cells": [
  {
   "cell_type": "code",
   "execution_count": 1,
   "metadata": {},
   "outputs": [],
   "source": [
    "import requests\n",
    "import bs4\n"
   ]
  },
  {
   "cell_type": "code",
   "execution_count": null,
   "metadata": {},
   "outputs": [
    {
     "data": {
      "text/plain": [
       "'Artificial Intelligence 535 - DEEP LEARNING'"
      ]
     },
     "execution_count": 18,
     "metadata": {},
     "output_type": "execute_result"
    }
   ],
   "source": [
    "def get_course_name(crn):\n",
    "    data = {\n",
    "        'term': '202502',\n",
    "        'courseReferenceNumber': crn,\n",
    "    }\n",
    "\n",
    "    response = requests.post(\n",
    "        'https://prodapps.isadm.oregonstate.edu/StudentRegistrationSsb/ssb/searchResults/getClassDetails',\n",
    "        data=data,\n",
    "    )\n",
    "\n",
    "    soup = bs4.BeautifulSoup(response.text, 'html.parser')\n",
    "\n",
    "    subject = soup.find('span', {'id': 'subject'}).text\n",
    "    courseNumber = soup.find('span', {'id': 'courseNumber'}).text\n",
    "    courseTitle = soup.find('span', {'id': 'courseTitle'}).text\n",
    "\n",
    "    name = f'{subject} {courseNumber} - {courseTitle}'\n",
    "    return name\n",
    "\n",
    "get_course_name(37631)"
   ]
  }
 ],
 "metadata": {
  "kernelspec": {
   "display_name": ".venv",
   "language": "python",
   "name": "python3"
  },
  "language_info": {
   "codemirror_mode": {
    "name": "ipython",
    "version": 3
   },
   "file_extension": ".py",
   "mimetype": "text/x-python",
   "name": "python",
   "nbconvert_exporter": "python",
   "pygments_lexer": "ipython3",
   "version": "3.13.0"
  }
 },
 "nbformat": 4,
 "nbformat_minor": 2
}
